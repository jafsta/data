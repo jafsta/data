{
 "cells": [
  {
   "cell_type": "markdown",
   "id": "6f3742d9",
   "metadata": {},
   "source": [
    "# Data Science Tools  and Ecosystem"
   ]
  },
  {
   "cell_type": "markdown",
   "id": "0670a9ea",
   "metadata": {},
   "source": [
    "**some of the popular languages that Data Scientists used are**: \n",
    "***\n",
    "1. python\n",
    "1. SQL\n",
    "1. Julia\n",
    "1. php \n",
    "1. Go\n",
    "1. visual basic"
   ]
  },
  {
   "cell_type": "markdown",
   "id": "7b3c2aaf",
   "metadata": {},
   "source": [
    "**some commonly used library used by Data Scientists include**:\n",
    "***\n",
    "- Tensor flow\n",
    "- Numpy\n",
    "- SciPy \n",
    "- pandas \n",
    "- matplotlib\n",
    "- kearas\n",
    "- scikit-Learn\n",
    "- PyTorch"
   ]
  },
  {
   "cell_type": "markdown",
   "id": "012cd09e",
   "metadata": {},
   "source": [
    "In this  notebook,  Data science Tools and  Ecosystem are summarised. "
   ]
  },
  {
   "cell_type": "markdown",
   "id": "91323e1e",
   "metadata": {},
   "source": [
    "**Objectives:**\n",
    "\n",
    "list of  languages  for  data science \n",
    "\n",
    "- python\n",
    "- SQL\n",
    "- R studio\n",
    "- scala\n",
    "- julia \n"
   ]
  },
  {
   "cell_type": "markdown",
   "id": "84425c2c",
   "metadata": {},
   "source": [
    "|Data Science Tools |\n",
    "|--------------------|\n",
    "|jupyter|\n",
    "|python|\n",
    "|scala|"
   ]
  },
  {
   "cell_type": "markdown",
   "id": "7c59f596",
   "metadata": {},
   "source": [
    "### Below  are few examples of  evaluating  arithmetic expression in Python\n",
    "\n"
   ]
  },
  {
   "cell_type": "code",
   "execution_count": 4,
   "id": "0804e583",
   "metadata": {},
   "outputs": [
    {
     "data": {
      "text/plain": [
       "17"
      ]
     },
     "execution_count": 4,
     "metadata": {},
     "output_type": "execute_result"
    }
   ],
   "source": [
    "This is  a simple arithmetic expression to  multiply  then add integers\n",
    "(3 * 4 ) + 5"
   ]
  },
  {
   "cell_type": "code",
   "execution_count": 3,
   "id": "8eb59fab",
   "metadata": {},
   "outputs": [
    {
     "name": "stdout",
     "output_type": "stream",
     "text": [
      "3.3333333333333335\n"
     ]
    }
   ],
   "source": [
    "This will  convert 200 minutes  to  hours by dividing  by 60\n",
    "\n",
    "hours = 200 / 60\n",
    "print(hours)"
   ]
  },
  {
   "cell_type": "markdown",
   "id": "5bf96451",
   "metadata": {},
   "source": [
    "## Author \n",
    "Jafar hassan"
   ]
  },
  {
   "cell_type": "code",
   "execution_count": null,
   "id": "1081d606",
   "metadata": {},
   "outputs": [],
   "source": []
  }
 ],
 "metadata": {
  "kernelspec": {
   "display_name": "Python 3 (ipykernel)",
   "language": "python",
   "name": "python3"
  },
  "language_info": {
   "codemirror_mode": {
    "name": "ipython",
    "version": 3
   },
   "file_extension": ".py",
   "mimetype": "text/x-python",
   "name": "python",
   "nbconvert_exporter": "python",
   "pygments_lexer": "ipython3",
   "version": "3.9.12"
  }
 },
 "nbformat": 4,
 "nbformat_minor": 5
}
